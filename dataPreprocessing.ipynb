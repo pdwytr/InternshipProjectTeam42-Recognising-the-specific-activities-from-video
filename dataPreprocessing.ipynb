{
 "cells": [
  {
   "cell_type": "code",
   "execution_count": 12,
   "metadata": {
    "scrolled": true
   },
   "outputs": [],
   "source": [
    "import cv2"
   ]
  },
  {
   "cell_type": "code",
   "execution_count": 13,
   "metadata": {},
   "outputs": [],
   "source": [
    "import os"
   ]
  },
  {
   "cell_type": "code",
   "execution_count": 14,
   "metadata": {},
   "outputs": [
    {
     "data": {
      "text/plain": [
       "'C:\\\\Users\\\\multi\\\\Documents\\\\Internship'"
      ]
     },
     "execution_count": 14,
     "metadata": {},
     "output_type": "execute_result"
    }
   ],
   "source": [
    "os.getcwd()"
   ]
  },
  {
   "cell_type": "code",
   "execution_count": 54,
   "metadata": {},
   "outputs": [],
   "source": [
    "os.chdir(path = \"Data/HighJump/\")\n",
    "from os import listdir\n",
    "from os.path import isfile, join\n",
    "onlyfiles = [f for f in listdir() if isfile(join('', f))]\n",
    "HighJump =  onlyfiles[1:]"
   ]
  },
  {
   "cell_type": "code",
   "execution_count": 55,
   "metadata": {},
   "outputs": [],
   "source": [
    "os.chdir(path=\"../LongJump/\")\n",
    "from os import listdir\n",
    "from os.path import isfile, join\n",
    "onlyfiles = [f for f in listdir() if isfile(join('', f))]"
   ]
  },
  {
   "cell_type": "code",
   "execution_count": 56,
   "metadata": {},
   "outputs": [],
   "source": [
    "longJump =  onlyfiles[1:]"
   ]
  },
  {
   "cell_type": "code",
   "execution_count": 57,
   "metadata": {},
   "outputs": [
    {
     "data": {
      "text/plain": [
       "(['v_HighJump_g01_c01.avi',\n",
       "  'v_HighJump_g01_c02.avi',\n",
       "  'v_HighJump_g01_c03.avi',\n",
       "  'v_HighJump_g01_c04.avi',\n",
       "  'v_HighJump_g01_c05.avi',\n",
       "  'v_HighJump_g02_c01.avi',\n",
       "  'v_HighJump_g02_c02.avi',\n",
       "  'v_HighJump_g02_c03.avi',\n",
       "  'v_HighJump_g02_c04.avi',\n",
       "  'v_HighJump_g02_c05.avi',\n",
       "  'v_HighJump_g02_c06.avi',\n",
       "  'v_HighJump_g02_c07.avi',\n",
       "  'v_HighJump_g03_c01.avi',\n",
       "  'v_HighJump_g03_c02.avi',\n",
       "  'v_HighJump_g03_c03.avi',\n",
       "  'v_HighJump_g03_c04.avi',\n",
       "  'v_HighJump_g04_c01.avi',\n",
       "  'v_HighJump_g04_c02.avi',\n",
       "  'v_HighJump_g04_c03.avi',\n",
       "  'v_HighJump_g04_c04.avi',\n",
       "  'v_HighJump_g04_c05.avi',\n",
       "  'v_HighJump_g04_c06.avi',\n",
       "  'v_HighJump_g05_c01.avi',\n",
       "  'v_HighJump_g05_c02.avi'],\n",
       " ['v_LongJump_g01_c01.avi',\n",
       "  'v_LongJump_g01_c02.avi',\n",
       "  'v_LongJump_g01_c03.avi',\n",
       "  'v_LongJump_g01_c04.avi',\n",
       "  'v_LongJump_g01_c05.avi',\n",
       "  'v_LongJump_g01_c06.avi',\n",
       "  'v_LongJump_g01_c07.avi',\n",
       "  'v_LongJump_g02_c01.avi',\n",
       "  'v_LongJump_g02_c02.avi',\n",
       "  'v_LongJump_g02_c03.avi',\n",
       "  'v_LongJump_g02_c04.avi',\n",
       "  'v_LongJump_g02_c05.avi',\n",
       "  'v_LongJump_g03_c01.avi',\n",
       "  'v_LongJump_g03_c02.avi',\n",
       "  'v_LongJump_g03_c03.avi',\n",
       "  'v_LongJump_g03_c04.avi',\n",
       "  'v_LongJump_g03_c05.avi',\n",
       "  'v_LongJump_g03_c06.avi'])"
      ]
     },
     "execution_count": 57,
     "metadata": {},
     "output_type": "execute_result"
    }
   ],
   "source": [
    "HighJump,longJump"
   ]
  },
  {
   "cell_type": "code",
   "execution_count": 19,
   "metadata": {},
   "outputs": [],
   "source": [
    "os.chdir(path = \"../\")"
   ]
  },
  {
   "cell_type": "code",
   "execution_count": 20,
   "metadata": {},
   "outputs": [],
   "source": [
    "os.chdir(path=\"cricketBowling/\")"
   ]
  },
  {
   "cell_type": "code",
   "execution_count": 21,
   "metadata": {},
   "outputs": [],
   "source": [
    "from os import listdir\n",
    "from os.path import isfile, join\n",
    "onlyfiles = [f for f in listdir() if isfile(join('', f))]"
   ]
  },
  {
   "cell_type": "code",
   "execution_count": 22,
   "metadata": {},
   "outputs": [],
   "source": [
    "bowling = onlyfiles"
   ]
  },
  {
   "cell_type": "code",
   "execution_count": 23,
   "metadata": {},
   "outputs": [],
   "source": [
    "longJumpTrain = longJump[:int(len(longJump)*0.7)]\n",
    "bowlingTrain = bowling[1:int(len(bowling)*0.7)]\n",
    "HighJumpTrain  = HighJump[1:int(len(HighJump)*0.7)]"
   ]
  },
  {
   "cell_type": "code",
   "execution_count": 24,
   "metadata": {},
   "outputs": [],
   "source": [
    "trainNames = []\n",
    "for each in longJumpTrain:\n",
    "    trainNames.append(each)\n",
    "for each in bowlingTrain:\n",
    "    trainNames.append(each)\n",
    "for each in HighJumpTrain:\n",
    "    trainNames.append(each)\n",
    "    "
   ]
  },
  {
   "cell_type": "code",
   "execution_count": 58,
   "metadata": {},
   "outputs": [
    {
     "data": {
      "text/plain": [
       "['v_LongJump_g01_c01.avi',\n",
       " 'v_LongJump_g01_c02.avi',\n",
       " 'v_LongJump_g01_c03.avi',\n",
       " 'v_LongJump_g01_c04.avi',\n",
       " 'v_LongJump_g01_c05.avi',\n",
       " 'v_LongJump_g01_c06.avi',\n",
       " 'v_LongJump_g01_c07.avi',\n",
       " 'v_LongJump_g02_c01.avi',\n",
       " 'v_LongJump_g02_c02.avi',\n",
       " 'v_LongJump_g02_c03.avi',\n",
       " 'v_LongJump_g02_c04.avi',\n",
       " 'v_LongJump_g02_c05.avi',\n",
       " 'v_CricketBowling_g01_c02.avi',\n",
       " 'v_CricketBowling_g01_c03.avi',\n",
       " 'v_CricketBowling_g01_c04.avi',\n",
       " 'v_CricketBowling_g01_c05.avi',\n",
       " 'v_CricketBowling_g01_c06.avi',\n",
       " 'v_CricketBowling_g01_c07.avi',\n",
       " 'v_CricketBowling_g02_c01.avi',\n",
       " 'v_CricketBowling_g02_c02.avi',\n",
       " 'v_CricketBowling_g02_c03.avi',\n",
       " 'v_CricketBowling_g02_c04.avi',\n",
       " 'v_CricketBowling_g02_c05.avi',\n",
       " 'v_CricketBowling_g02_c06.avi',\n",
       " 'v_CricketBowling_g02_c07.avi',\n",
       " 'v_CricketBowling_g03_c01.avi',\n",
       " 'v_CricketBowling_g03_c02.avi',\n",
       " 'v_CricketBowling_g03_c03.avi',\n",
       " 'v_CricketBowling_g03_c04.avi',\n",
       " 'v_HighJump_g01_c02.avi',\n",
       " 'v_HighJump_g01_c03.avi',\n",
       " 'v_HighJump_g01_c04.avi',\n",
       " 'v_HighJump_g01_c05.avi',\n",
       " 'v_HighJump_g02_c01.avi',\n",
       " 'v_HighJump_g02_c02.avi',\n",
       " 'v_HighJump_g02_c03.avi',\n",
       " 'v_HighJump_g02_c04.avi',\n",
       " 'v_HighJump_g02_c05.avi',\n",
       " 'v_HighJump_g02_c06.avi',\n",
       " 'v_HighJump_g02_c07.avi',\n",
       " 'v_HighJump_g03_c01.avi',\n",
       " 'v_HighJump_g03_c02.avi',\n",
       " 'v_HighJump_g03_c03.avi',\n",
       " 'v_HighJump_g03_c04.avi']"
      ]
     },
     "execution_count": 58,
     "metadata": {},
     "output_type": "execute_result"
    }
   ],
   "source": [
    "trainNames"
   ]
  },
  {
   "cell_type": "code",
   "execution_count": 26,
   "metadata": {},
   "outputs": [],
   "source": [
    "longJumpTest = longJump[int(len(longJump)*0.7):]\n",
    "bowlingTest = bowling[int(len(bowling)*0.7):]\n",
    "HighJumpTest  = HighJump[int(len(HighJump)*0.7):]\n",
    "testNames = []\n",
    "for each in longJumpTest:\n",
    "    testNames.append(each)\n",
    "for each in bowlingTest:\n",
    "    testNames.append(each)\n",
    "for each in HighJumpTest:\n",
    "    testNames.append(each)\n",
    "    "
   ]
  },
  {
   "cell_type": "code",
   "execution_count": 27,
   "metadata": {
    "scrolled": true
   },
   "outputs": [
    {
     "data": {
      "text/plain": [
       "['v_LongJump_g03_c01.avi',\n",
       " 'v_LongJump_g03_c02.avi',\n",
       " 'v_LongJump_g03_c03.avi',\n",
       " 'v_LongJump_g03_c04.avi',\n",
       " 'v_LongJump_g03_c05.avi',\n",
       " 'v_LongJump_g03_c06.avi',\n",
       " 'v_CricketBowling_g04_c01.avi',\n",
       " 'v_CricketBowling_g04_c02.avi',\n",
       " 'v_CricketBowling_g04_c03.avi',\n",
       " 'v_CricketBowling_g04_c04.avi',\n",
       " 'v_CricketBowling_g04_c05.avi',\n",
       " 'v_CricketBowling_g05_c01.avi',\n",
       " 'v_CricketBowling_g05_c02.avi',\n",
       " 'v_CricketBowling_g05_c03.avi',\n",
       " 'v_CricketBowling_g05_c04.avi',\n",
       " 'v_HighJump_g04_c01.avi',\n",
       " 'v_HighJump_g04_c02.avi',\n",
       " 'v_HighJump_g04_c03.avi',\n",
       " 'v_HighJump_g04_c04.avi',\n",
       " 'v_HighJump_g04_c05.avi',\n",
       " 'v_HighJump_g04_c06.avi',\n",
       " 'v_HighJump_g05_c01.avi',\n",
       " 'v_HighJump_g05_c02.avi']"
      ]
     },
     "execution_count": 27,
     "metadata": {},
     "output_type": "execute_result"
    }
   ],
   "source": [
    "testNames"
   ]
  },
  {
   "cell_type": "code",
   "execution_count": 28,
   "metadata": {},
   "outputs": [],
   "source": [
    "import pandas as pd"
   ]
  },
  {
   "cell_type": "code",
   "execution_count": 29,
   "metadata": {},
   "outputs": [],
   "source": [
    "train = pd.DataFrame()"
   ]
  },
  {
   "cell_type": "code",
   "execution_count": 30,
   "metadata": {},
   "outputs": [],
   "source": [
    "train['video_Names']=trainNames"
   ]
  },
  {
   "cell_type": "code",
   "execution_count": 31,
   "metadata": {},
   "outputs": [
    {
     "data": {
      "text/plain": [
       "'LongJump'"
      ]
     },
     "execution_count": 31,
     "metadata": {},
     "output_type": "execute_result"
    }
   ],
   "source": [
    "train['video_Names'][1].split('_')[1]"
   ]
  },
  {
   "cell_type": "code",
   "execution_count": 32,
   "metadata": {},
   "outputs": [],
   "source": [
    "test = pd.DataFrame()\n",
    "test['video_Names'] = testNames"
   ]
  },
  {
   "cell_type": "code",
   "execution_count": 33,
   "metadata": {},
   "outputs": [],
   "source": [
    "train_video_tag = []"
   ]
  },
  {
   "cell_type": "code",
   "execution_count": 34,
   "metadata": {},
   "outputs": [],
   "source": [
    "for i in range(train.shape[0]):\n",
    "    train_video_tag.append(train['video_Names'][i].split('_')[1])"
   ]
  },
  {
   "cell_type": "code",
   "execution_count": 35,
   "metadata": {},
   "outputs": [],
   "source": [
    "train['tag'] = train_video_tag"
   ]
  },
  {
   "cell_type": "code",
   "execution_count": 36,
   "metadata": {
    "scrolled": true
   },
   "outputs": [
    {
     "data": {
      "text/plain": [
       "['LongJump',\n",
       " 'LongJump',\n",
       " 'LongJump',\n",
       " 'LongJump',\n",
       " 'LongJump',\n",
       " 'LongJump',\n",
       " 'CricketBowling',\n",
       " 'CricketBowling',\n",
       " 'CricketBowling',\n",
       " 'CricketBowling',\n",
       " 'CricketBowling',\n",
       " 'CricketBowling',\n",
       " 'CricketBowling',\n",
       " 'CricketBowling',\n",
       " 'CricketBowling',\n",
       " 'HighJump',\n",
       " 'HighJump',\n",
       " 'HighJump',\n",
       " 'HighJump',\n",
       " 'HighJump',\n",
       " 'HighJump',\n",
       " 'HighJump',\n",
       " 'HighJump']"
      ]
     },
     "execution_count": 36,
     "metadata": {},
     "output_type": "execute_result"
    }
   ],
   "source": [
    "test_video_tag = []\n",
    "for i in range(test.shape[0]):\n",
    "    test_video_tag.append(test['video_Names'][i].split('_')[1])\n",
    "test_video_tag"
   ]
  },
  {
   "cell_type": "code",
   "execution_count": 37,
   "metadata": {},
   "outputs": [],
   "source": [
    "test['tag'] = test_video_tag"
   ]
  },
  {
   "cell_type": "code",
   "execution_count": 38,
   "metadata": {
    "scrolled": false
   },
   "outputs": [
    {
     "data": {
      "text/html": [
       "<div>\n",
       "<style scoped>\n",
       "    .dataframe tbody tr th:only-of-type {\n",
       "        vertical-align: middle;\n",
       "    }\n",
       "\n",
       "    .dataframe tbody tr th {\n",
       "        vertical-align: top;\n",
       "    }\n",
       "\n",
       "    .dataframe thead th {\n",
       "        text-align: right;\n",
       "    }\n",
       "</style>\n",
       "<table border=\"1\" class=\"dataframe\">\n",
       "  <thead>\n",
       "    <tr style=\"text-align: right;\">\n",
       "      <th></th>\n",
       "      <th>video_Names</th>\n",
       "      <th>tag</th>\n",
       "    </tr>\n",
       "  </thead>\n",
       "  <tbody>\n",
       "    <tr>\n",
       "      <th>0</th>\n",
       "      <td>v_LongJump_g01_c01.avi</td>\n",
       "      <td>LongJump</td>\n",
       "    </tr>\n",
       "    <tr>\n",
       "      <th>1</th>\n",
       "      <td>v_LongJump_g01_c02.avi</td>\n",
       "      <td>LongJump</td>\n",
       "    </tr>\n",
       "    <tr>\n",
       "      <th>2</th>\n",
       "      <td>v_LongJump_g01_c03.avi</td>\n",
       "      <td>LongJump</td>\n",
       "    </tr>\n",
       "    <tr>\n",
       "      <th>3</th>\n",
       "      <td>v_LongJump_g01_c04.avi</td>\n",
       "      <td>LongJump</td>\n",
       "    </tr>\n",
       "    <tr>\n",
       "      <th>4</th>\n",
       "      <td>v_LongJump_g01_c05.avi</td>\n",
       "      <td>LongJump</td>\n",
       "    </tr>\n",
       "    <tr>\n",
       "      <th>5</th>\n",
       "      <td>v_LongJump_g01_c06.avi</td>\n",
       "      <td>LongJump</td>\n",
       "    </tr>\n",
       "    <tr>\n",
       "      <th>6</th>\n",
       "      <td>v_LongJump_g01_c07.avi</td>\n",
       "      <td>LongJump</td>\n",
       "    </tr>\n",
       "    <tr>\n",
       "      <th>7</th>\n",
       "      <td>v_LongJump_g02_c01.avi</td>\n",
       "      <td>LongJump</td>\n",
       "    </tr>\n",
       "    <tr>\n",
       "      <th>8</th>\n",
       "      <td>v_LongJump_g02_c02.avi</td>\n",
       "      <td>LongJump</td>\n",
       "    </tr>\n",
       "    <tr>\n",
       "      <th>9</th>\n",
       "      <td>v_LongJump_g02_c03.avi</td>\n",
       "      <td>LongJump</td>\n",
       "    </tr>\n",
       "    <tr>\n",
       "      <th>10</th>\n",
       "      <td>v_LongJump_g02_c04.avi</td>\n",
       "      <td>LongJump</td>\n",
       "    </tr>\n",
       "    <tr>\n",
       "      <th>11</th>\n",
       "      <td>v_LongJump_g02_c05.avi</td>\n",
       "      <td>LongJump</td>\n",
       "    </tr>\n",
       "    <tr>\n",
       "      <th>12</th>\n",
       "      <td>v_CricketBowling_g01_c01.avi</td>\n",
       "      <td>CricketBowling</td>\n",
       "    </tr>\n",
       "    <tr>\n",
       "      <th>13</th>\n",
       "      <td>v_CricketBowling_g01_c02.avi</td>\n",
       "      <td>CricketBowling</td>\n",
       "    </tr>\n",
       "    <tr>\n",
       "      <th>14</th>\n",
       "      <td>v_CricketBowling_g01_c03.avi</td>\n",
       "      <td>CricketBowling</td>\n",
       "    </tr>\n",
       "    <tr>\n",
       "      <th>15</th>\n",
       "      <td>v_CricketBowling_g01_c04.avi</td>\n",
       "      <td>CricketBowling</td>\n",
       "    </tr>\n",
       "    <tr>\n",
       "      <th>16</th>\n",
       "      <td>v_CricketBowling_g01_c05.avi</td>\n",
       "      <td>CricketBowling</td>\n",
       "    </tr>\n",
       "    <tr>\n",
       "      <th>17</th>\n",
       "      <td>v_CricketBowling_g01_c06.avi</td>\n",
       "      <td>CricketBowling</td>\n",
       "    </tr>\n",
       "    <tr>\n",
       "      <th>18</th>\n",
       "      <td>v_CricketBowling_g01_c07.avi</td>\n",
       "      <td>CricketBowling</td>\n",
       "    </tr>\n",
       "    <tr>\n",
       "      <th>19</th>\n",
       "      <td>v_CricketBowling_g02_c01.avi</td>\n",
       "      <td>CricketBowling</td>\n",
       "    </tr>\n",
       "    <tr>\n",
       "      <th>20</th>\n",
       "      <td>v_CricketBowling_g02_c02.avi</td>\n",
       "      <td>CricketBowling</td>\n",
       "    </tr>\n",
       "    <tr>\n",
       "      <th>21</th>\n",
       "      <td>v_CricketBowling_g02_c03.avi</td>\n",
       "      <td>CricketBowling</td>\n",
       "    </tr>\n",
       "    <tr>\n",
       "      <th>22</th>\n",
       "      <td>v_CricketBowling_g02_c04.avi</td>\n",
       "      <td>CricketBowling</td>\n",
       "    </tr>\n",
       "    <tr>\n",
       "      <th>23</th>\n",
       "      <td>v_CricketBowling_g02_c05.avi</td>\n",
       "      <td>CricketBowling</td>\n",
       "    </tr>\n",
       "    <tr>\n",
       "      <th>24</th>\n",
       "      <td>v_CricketBowling_g02_c06.avi</td>\n",
       "      <td>CricketBowling</td>\n",
       "    </tr>\n",
       "    <tr>\n",
       "      <th>25</th>\n",
       "      <td>v_CricketBowling_g02_c07.avi</td>\n",
       "      <td>CricketBowling</td>\n",
       "    </tr>\n",
       "    <tr>\n",
       "      <th>26</th>\n",
       "      <td>v_CricketBowling_g03_c01.avi</td>\n",
       "      <td>CricketBowling</td>\n",
       "    </tr>\n",
       "    <tr>\n",
       "      <th>27</th>\n",
       "      <td>v_CricketBowling_g03_c02.avi</td>\n",
       "      <td>CricketBowling</td>\n",
       "    </tr>\n",
       "    <tr>\n",
       "      <th>28</th>\n",
       "      <td>v_CricketBowling_g03_c03.avi</td>\n",
       "      <td>CricketBowling</td>\n",
       "    </tr>\n",
       "    <tr>\n",
       "      <th>29</th>\n",
       "      <td>v_CricketBowling_g03_c04.avi</td>\n",
       "      <td>CricketBowling</td>\n",
       "    </tr>\n",
       "    <tr>\n",
       "      <th>30</th>\n",
       "      <td>v_HighJump_g01_c02.avi</td>\n",
       "      <td>HighJump</td>\n",
       "    </tr>\n",
       "    <tr>\n",
       "      <th>31</th>\n",
       "      <td>v_HighJump_g01_c03.avi</td>\n",
       "      <td>HighJump</td>\n",
       "    </tr>\n",
       "    <tr>\n",
       "      <th>32</th>\n",
       "      <td>v_HighJump_g01_c04.avi</td>\n",
       "      <td>HighJump</td>\n",
       "    </tr>\n",
       "    <tr>\n",
       "      <th>33</th>\n",
       "      <td>v_HighJump_g01_c05.avi</td>\n",
       "      <td>HighJump</td>\n",
       "    </tr>\n",
       "    <tr>\n",
       "      <th>34</th>\n",
       "      <td>v_HighJump_g02_c01.avi</td>\n",
       "      <td>HighJump</td>\n",
       "    </tr>\n",
       "    <tr>\n",
       "      <th>35</th>\n",
       "      <td>v_HighJump_g02_c02.avi</td>\n",
       "      <td>HighJump</td>\n",
       "    </tr>\n",
       "    <tr>\n",
       "      <th>36</th>\n",
       "      <td>v_HighJump_g02_c03.avi</td>\n",
       "      <td>HighJump</td>\n",
       "    </tr>\n",
       "    <tr>\n",
       "      <th>37</th>\n",
       "      <td>v_HighJump_g02_c04.avi</td>\n",
       "      <td>HighJump</td>\n",
       "    </tr>\n",
       "    <tr>\n",
       "      <th>38</th>\n",
       "      <td>v_HighJump_g02_c05.avi</td>\n",
       "      <td>HighJump</td>\n",
       "    </tr>\n",
       "    <tr>\n",
       "      <th>39</th>\n",
       "      <td>v_HighJump_g02_c06.avi</td>\n",
       "      <td>HighJump</td>\n",
       "    </tr>\n",
       "    <tr>\n",
       "      <th>40</th>\n",
       "      <td>v_HighJump_g02_c07.avi</td>\n",
       "      <td>HighJump</td>\n",
       "    </tr>\n",
       "    <tr>\n",
       "      <th>41</th>\n",
       "      <td>v_HighJump_g03_c01.avi</td>\n",
       "      <td>HighJump</td>\n",
       "    </tr>\n",
       "    <tr>\n",
       "      <th>42</th>\n",
       "      <td>v_HighJump_g03_c02.avi</td>\n",
       "      <td>HighJump</td>\n",
       "    </tr>\n",
       "    <tr>\n",
       "      <th>43</th>\n",
       "      <td>v_HighJump_g03_c03.avi</td>\n",
       "      <td>HighJump</td>\n",
       "    </tr>\n",
       "    <tr>\n",
       "      <th>44</th>\n",
       "      <td>v_HighJump_g03_c04.avi</td>\n",
       "      <td>HighJump</td>\n",
       "    </tr>\n",
       "  </tbody>\n",
       "</table>\n",
       "</div>"
      ],
      "text/plain": [
       "                     video_Names             tag\n",
       "0         v_LongJump_g01_c01.avi        LongJump\n",
       "1         v_LongJump_g01_c02.avi        LongJump\n",
       "2         v_LongJump_g01_c03.avi        LongJump\n",
       "3         v_LongJump_g01_c04.avi        LongJump\n",
       "4         v_LongJump_g01_c05.avi        LongJump\n",
       "5         v_LongJump_g01_c06.avi        LongJump\n",
       "6         v_LongJump_g01_c07.avi        LongJump\n",
       "7         v_LongJump_g02_c01.avi        LongJump\n",
       "8         v_LongJump_g02_c02.avi        LongJump\n",
       "9         v_LongJump_g02_c03.avi        LongJump\n",
       "10        v_LongJump_g02_c04.avi        LongJump\n",
       "11        v_LongJump_g02_c05.avi        LongJump\n",
       "12  v_CricketBowling_g01_c01.avi  CricketBowling\n",
       "13  v_CricketBowling_g01_c02.avi  CricketBowling\n",
       "14  v_CricketBowling_g01_c03.avi  CricketBowling\n",
       "15  v_CricketBowling_g01_c04.avi  CricketBowling\n",
       "16  v_CricketBowling_g01_c05.avi  CricketBowling\n",
       "17  v_CricketBowling_g01_c06.avi  CricketBowling\n",
       "18  v_CricketBowling_g01_c07.avi  CricketBowling\n",
       "19  v_CricketBowling_g02_c01.avi  CricketBowling\n",
       "20  v_CricketBowling_g02_c02.avi  CricketBowling\n",
       "21  v_CricketBowling_g02_c03.avi  CricketBowling\n",
       "22  v_CricketBowling_g02_c04.avi  CricketBowling\n",
       "23  v_CricketBowling_g02_c05.avi  CricketBowling\n",
       "24  v_CricketBowling_g02_c06.avi  CricketBowling\n",
       "25  v_CricketBowling_g02_c07.avi  CricketBowling\n",
       "26  v_CricketBowling_g03_c01.avi  CricketBowling\n",
       "27  v_CricketBowling_g03_c02.avi  CricketBowling\n",
       "28  v_CricketBowling_g03_c03.avi  CricketBowling\n",
       "29  v_CricketBowling_g03_c04.avi  CricketBowling\n",
       "30        v_HighJump_g01_c02.avi        HighJump\n",
       "31        v_HighJump_g01_c03.avi        HighJump\n",
       "32        v_HighJump_g01_c04.avi        HighJump\n",
       "33        v_HighJump_g01_c05.avi        HighJump\n",
       "34        v_HighJump_g02_c01.avi        HighJump\n",
       "35        v_HighJump_g02_c02.avi        HighJump\n",
       "36        v_HighJump_g02_c03.avi        HighJump\n",
       "37        v_HighJump_g02_c04.avi        HighJump\n",
       "38        v_HighJump_g02_c05.avi        HighJump\n",
       "39        v_HighJump_g02_c06.avi        HighJump\n",
       "40        v_HighJump_g02_c07.avi        HighJump\n",
       "41        v_HighJump_g03_c01.avi        HighJump\n",
       "42        v_HighJump_g03_c02.avi        HighJump\n",
       "43        v_HighJump_g03_c03.avi        HighJump\n",
       "44        v_HighJump_g03_c04.avi        HighJump"
      ]
     },
     "execution_count": 38,
     "metadata": {},
     "output_type": "execute_result"
    }
   ],
   "source": [
    "train"
   ]
  },
  {
   "cell_type": "code",
   "execution_count": 101,
   "metadata": {},
   "outputs": [
    {
     "data": {
      "text/plain": [
       "'C:\\\\Users\\\\multi\\\\Documents\\\\Internship\\\\Data\\\\HighJump'"
      ]
     },
     "execution_count": 101,
     "metadata": {},
     "output_type": "execute_result"
    }
   ],
   "source": [
    "os.getcwd()"
   ]
  },
  {
   "cell_type": "code",
   "execution_count": 106,
   "metadata": {},
   "outputs": [],
   "source": [
    "os.chdir(\"..\\..\")"
   ]
  },
  {
   "cell_type": "code",
   "execution_count": 107,
   "metadata": {},
   "outputs": [
    {
     "data": {
      "text/plain": [
       "'C:\\\\Users\\\\multi\\\\Documents\\\\Internship'"
      ]
     },
     "execution_count": 107,
     "metadata": {},
     "output_type": "execute_result"
    }
   ],
   "source": [
    "os.getcwd()"
   ]
  },
  {
   "cell_type": "code",
   "execution_count": 109,
   "metadata": {},
   "outputs": [],
   "source": [
    "os.makedirs(\"train_1\")"
   ]
  },
  {
   "cell_type": "code",
   "execution_count": 148,
   "metadata": {},
   "outputs": [],
   "source": [
    "import math"
   ]
  },
  {
   "cell_type": "code",
   "execution_count": 305,
   "metadata": {
    "scrolled": true
   },
   "outputs": [
    {
     "name": "stderr",
     "output_type": "stream",
     "text": [
      "100%|██████████████████████████████████████████████████████████████████████████████████| 45/45 [00:03<00:00, 11.80it/s]\n"
     ]
    }
   ],
   "source": [
    "count=0\n",
    "for i in tqdm(range(train.shape[0])):\n",
    "\n",
    "    videoFile = train['video_Names'][i].split(\" \")[0].split(\"_\")[1]+\"/\"+train['video_Names'][i]\n",
    "    cap = cv2.VideoCapture('data/'+videoFile)\n",
    "    frameRate = cap.get(5)\n",
    "    while(cap.isOpened()):\n",
    "        frameId = cap.get(1) #current frame number\n",
    "        ret, frame = cap.read()\n",
    "        if (ret != True):\n",
    "            break\n",
    "        if (frameId % math.floor(frameRate) == 0):\n",
    "        \n",
    "            # storing the frames in a new folder named train_1\n",
    "        \n",
    "            filename ='train_1/' + train[\"video_Names\"][i].split(\"_\")[1]+\"_\"+train[\"video_Names\"][i].split(\"_\")[2]+ train[\"video_Names\"][i].split(\"_\")[3].split(\".\")[0] +\"_frame%d.jpg\" %count\n",
    "            count = count+1\n",
    "            cv2.imwrite(filename, frame)\n",
    "    \n",
    "    cap.release()"
   ]
  },
  {
   "cell_type": "code",
   "execution_count": 306,
   "metadata": {},
   "outputs": [],
   "source": [
    "os.makedirs(\"test_1\")"
   ]
  },
  {
   "cell_type": "code",
   "execution_count": 307,
   "metadata": {},
   "outputs": [
    {
     "name": "stderr",
     "output_type": "stream",
     "text": [
      "100%|██████████████████████████████████████████████████████████████████████████████████| 23/23 [00:01<00:00, 12.06it/s]\n"
     ]
    }
   ],
   "source": [
    "count=0\n",
    "for i in tqdm(range(test.shape[0])):\n",
    "\n",
    "    videoFile = test['video_Names'][i].split(\" \")[0].split(\"_\")[1]+\"/\"+test['video_Names'][i]\n",
    "    cap = cv2.VideoCapture('data/'+videoFile)\n",
    "    frameRate = cap.get(5)\n",
    "    while(cap.isOpened()):\n",
    "        frameId = cap.get(1) #current frame number\n",
    "        ret, frame = cap.read()\n",
    "        if (ret != True):\n",
    "            break\n",
    "        if (frameId % math.floor(frameRate) == 0):\n",
    "        \n",
    "            # storing the frames in a new folder named train_1\n",
    "        \n",
    "            filename ='test_1/' + test[\"video_Names\"][i].split(\"_\")[1]+\"_\"+test[\"video_Names\"][i].split(\"_\")[2]+ test[\"video_Names\"][i].split(\"_\")[3].split(\".\")[0] +\"_frame%d.jpg\" %count\n",
    "            count = count+1\n",
    "            cv2.imwrite(filename, frame)\n",
    "    \n",
    "    cap.release()"
   ]
  },
  {
   "cell_type": "code",
   "execution_count": 43,
   "metadata": {},
   "outputs": [],
   "source": [
    "from glob import glob\n",
    "from tqdm import tqdm"
   ]
  },
  {
   "cell_type": "code",
   "execution_count": 44,
   "metadata": {},
   "outputs": [],
   "source": [
    "images = glob(\"train_1/*.jpg\")"
   ]
  },
  {
   "cell_type": "code",
   "execution_count": 45,
   "metadata": {},
   "outputs": [
    {
     "name": "stderr",
     "output_type": "stream",
     "text": [
      "0it [00:00, ?it/s]\n"
     ]
    }
   ],
   "source": [
    "train_image = []\n",
    "train_class = []\n",
    "for i in tqdm(range(len(images))):\n",
    "    # creating the image name\n",
    "    train_image.append(images[i].split('\\\\')[1])\n",
    "    # creating the class of image\n",
    "    train_class.append(images[i].split('\\\\')[1].split(\"_\")[0])"
   ]
  },
  {
   "cell_type": "code",
   "execution_count": 46,
   "metadata": {},
   "outputs": [],
   "source": [
    "images = glob(\"test_1/*.jpg\")"
   ]
  },
  {
   "cell_type": "code",
   "execution_count": 47,
   "metadata": {},
   "outputs": [
    {
     "name": "stderr",
     "output_type": "stream",
     "text": [
      "0it [00:00, ?it/s]\n"
     ]
    }
   ],
   "source": [
    "test_image = []\n",
    "test_class = []\n",
    "for i in tqdm(range(len(images))):\n",
    "    # creating the image name\n",
    "    test_image.append(images[i].split('\\\\')[1])\n",
    "    # creating the class of image\n",
    "    test_class.append(images[i].split('\\\\')[1].split(\"_\")[0])"
   ]
  },
  {
   "cell_type": "code",
   "execution_count": 323,
   "metadata": {},
   "outputs": [],
   "source": [
    "train_data = pd.DataFrame()\n",
    "train_data['image'] = train_image\n",
    "train_data['class'] = train_class\n",
    "\n",
    "# converting the dataframe into csv file \n",
    "train_data.to_csv('Data/train_new.csv',header=True, index=False)"
   ]
  },
  {
   "cell_type": "code",
   "execution_count": 327,
   "metadata": {},
   "outputs": [],
   "source": [
    "test_data = pd.DataFrame()\n",
    "test_data['image'] = test_image\n",
    "test_data['class'] = test_class\n",
    "\n",
    "# converting the dataframe into csv file \n",
    "test_data.to_csv('Data/test_new.csv',header=True, index=False)"
   ]
  },
  {
   "cell_type": "code",
   "execution_count": 6,
   "metadata": {
    "collapsed": true
   },
   "outputs": [
    {
     "name": "stdout",
     "output_type": "stream",
     "text": [
      "Collecting tensorFlow\n",
      "  Using cached tensorflow-2.2.0-cp37-cp37m-win_amd64.whl (459.2 MB)\n",
      "Requirement already satisfied: opt-einsum>=2.3.2 in c:\\users\\multi\\anaconda3\\lib\\site-packages (from tensorFlow) (3.2.1)\n",
      "Requirement already satisfied: grpcio>=1.8.6 in c:\\users\\multi\\anaconda3\\lib\\site-packages (from tensorFlow) (1.29.0)\n",
      "Requirement already satisfied: termcolor>=1.1.0 in c:\\users\\multi\\anaconda3\\lib\\site-packages (from tensorFlow) (1.1.0)\n",
      "Requirement already satisfied: tensorboard<2.3.0,>=2.2.0 in c:\\users\\multi\\anaconda3\\lib\\site-packages (from tensorFlow) (2.2.1)\n",
      "Requirement already satisfied: absl-py>=0.7.0 in c:\\users\\multi\\anaconda3\\lib\\site-packages (from tensorFlow) (0.9.0)\n",
      "Requirement already satisfied: protobuf>=3.8.0 in c:\\users\\multi\\anaconda3\\lib\\site-packages (from tensorFlow) (3.12.0)\n",
      "Requirement already satisfied: astunparse==1.6.3 in c:\\users\\multi\\anaconda3\\lib\\site-packages (from tensorFlow) (1.6.3)\n",
      "Requirement already satisfied: h5py<2.11.0,>=2.10.0 in c:\\users\\multi\\anaconda3\\lib\\site-packages (from tensorFlow) (2.10.0)\n",
      "Requirement already satisfied: wheel>=0.26; python_version >= \"3\" in c:\\users\\multi\\anaconda3\\lib\\site-packages (from tensorFlow) (0.34.2)\n",
      "Requirement already satisfied: scipy==1.4.1; python_version >= \"3\" in c:\\users\\multi\\anaconda3\\lib\\site-packages (from tensorFlow) (1.4.1)\n",
      "Requirement already satisfied: keras-preprocessing>=1.1.0 in c:\\users\\multi\\anaconda3\\lib\\site-packages (from tensorFlow) (1.1.2)\n",
      "Requirement already satisfied: gast==0.3.3 in c:\\users\\multi\\anaconda3\\lib\\site-packages (from tensorFlow) (0.3.3)\n",
      "Requirement already satisfied: wrapt>=1.11.1 in c:\\users\\multi\\anaconda3\\lib\\site-packages (from tensorFlow) (1.11.2)\n",
      "Requirement already satisfied: numpy<2.0,>=1.16.0 in c:\\users\\multi\\anaconda3\\lib\\site-packages (from tensorFlow) (1.18.1)\n",
      "Requirement already satisfied: google-pasta>=0.1.8 in c:\\users\\multi\\anaconda3\\lib\\site-packages (from tensorFlow) (0.2.0)\n",
      "Requirement already satisfied: tensorflow-estimator<2.3.0,>=2.2.0 in c:\\users\\multi\\anaconda3\\lib\\site-packages (from tensorFlow) (2.2.0)\n",
      "Requirement already satisfied: six>=1.12.0 in c:\\users\\multi\\anaconda3\\lib\\site-packages (from tensorFlow) (1.14.0)\n",
      "Requirement already satisfied: markdown>=2.6.8 in c:\\users\\multi\\anaconda3\\lib\\site-packages (from tensorboard<2.3.0,>=2.2.0->tensorFlow) (3.2.2)\n",
      "Requirement already satisfied: google-auth-oauthlib<0.5,>=0.4.1 in c:\\users\\multi\\anaconda3\\lib\\site-packages (from tensorboard<2.3.0,>=2.2.0->tensorFlow) (0.4.1)\n",
      "Requirement already satisfied: requests<3,>=2.21.0 in c:\\users\\multi\\anaconda3\\lib\\site-packages (from tensorboard<2.3.0,>=2.2.0->tensorFlow) (2.22.0)\n",
      "Requirement already satisfied: werkzeug>=0.11.15 in c:\\users\\multi\\anaconda3\\lib\\site-packages (from tensorboard<2.3.0,>=2.2.0->tensorFlow) (1.0.0)\n",
      "Requirement already satisfied: google-auth<2,>=1.6.3 in c:\\users\\multi\\anaconda3\\lib\\site-packages (from tensorboard<2.3.0,>=2.2.0->tensorFlow) (1.15.0)\n",
      "Requirement already satisfied: tensorboard-plugin-wit>=1.6.0 in c:\\users\\multi\\anaconda3\\lib\\site-packages (from tensorboard<2.3.0,>=2.2.0->tensorFlow) (1.6.0.post3)\n",
      "Requirement already satisfied: setuptools>=41.0.0 in c:\\users\\multi\\anaconda3\\lib\\site-packages (from tensorboard<2.3.0,>=2.2.0->tensorFlow) (45.2.0.post20200210)\n",
      "Requirement already satisfied: importlib-metadata; python_version < \"3.8\" in c:\\users\\multi\\anaconda3\\lib\\site-packages (from markdown>=2.6.8->tensorboard<2.3.0,>=2.2.0->tensorFlow) (1.5.0)\n",
      "Requirement already satisfied: requests-oauthlib>=0.7.0 in c:\\users\\multi\\anaconda3\\lib\\site-packages (from google-auth-oauthlib<0.5,>=0.4.1->tensorboard<2.3.0,>=2.2.0->tensorFlow) (1.3.0)\n",
      "Requirement already satisfied: idna<2.9,>=2.5 in c:\\users\\multi\\anaconda3\\lib\\site-packages (from requests<3,>=2.21.0->tensorboard<2.3.0,>=2.2.0->tensorFlow) (2.8)\n",
      "Requirement already satisfied: chardet<3.1.0,>=3.0.2 in c:\\users\\multi\\anaconda3\\lib\\site-packages (from requests<3,>=2.21.0->tensorboard<2.3.0,>=2.2.0->tensorFlow) (3.0.4)\n",
      "Requirement already satisfied: certifi>=2017.4.17 in c:\\users\\multi\\anaconda3\\lib\\site-packages (from requests<3,>=2.21.0->tensorboard<2.3.0,>=2.2.0->tensorFlow) (2019.11.28)\n",
      "Requirement already satisfied: urllib3!=1.25.0,!=1.25.1,<1.26,>=1.21.1 in c:\\users\\multi\\anaconda3\\lib\\site-packages (from requests<3,>=2.21.0->tensorboard<2.3.0,>=2.2.0->tensorFlow) (1.25.8)\n",
      "Requirement already satisfied: cachetools<5.0,>=2.0.0 in c:\\users\\multi\\anaconda3\\lib\\site-packages (from google-auth<2,>=1.6.3->tensorboard<2.3.0,>=2.2.0->tensorFlow) (4.1.0)\n",
      "Requirement already satisfied: pyasn1-modules>=0.2.1 in c:\\users\\multi\\anaconda3\\lib\\site-packages (from google-auth<2,>=1.6.3->tensorboard<2.3.0,>=2.2.0->tensorFlow) (0.2.8)\n",
      "Requirement already satisfied: rsa<4.1,>=3.1.4 in c:\\users\\multi\\anaconda3\\lib\\site-packages (from google-auth<2,>=1.6.3->tensorboard<2.3.0,>=2.2.0->tensorFlow) (4.0)\n",
      "Requirement already satisfied: zipp>=0.5 in c:\\users\\multi\\anaconda3\\lib\\site-packages (from importlib-metadata; python_version < \"3.8\"->markdown>=2.6.8->tensorboard<2.3.0,>=2.2.0->tensorFlow) (2.2.0)\n",
      "Requirement already satisfied: oauthlib>=3.0.0 in c:\\users\\multi\\anaconda3\\lib\\site-packages (from requests-oauthlib>=0.7.0->google-auth-oauthlib<0.5,>=0.4.1->tensorboard<2.3.0,>=2.2.0->tensorFlow) (3.1.0)\n",
      "Requirement already satisfied: pyasn1<0.5.0,>=0.4.6 in c:\\users\\multi\\anaconda3\\lib\\site-packages (from pyasn1-modules>=0.2.1->google-auth<2,>=1.6.3->tensorboard<2.3.0,>=2.2.0->tensorFlow) (0.4.8)\n",
      "Installing collected packages: tensorFlow\n",
      "Successfully installed tensorFlow-2.2.0\n"
     ]
    }
   ],
   "source": [
    "!pip install tensorFlow"
   ]
  },
  {
   "cell_type": "code",
   "execution_count": 10,
   "metadata": {},
   "outputs": [
    {
     "ename": "NameError",
     "evalue": "name 'test' is not defined",
     "output_type": "error",
     "traceback": [
      "\u001b[1;31m---------------------------------------------------------------------------\u001b[0m",
      "\u001b[1;31mNameError\u001b[0m                                 Traceback (most recent call last)",
      "\u001b[1;32m<ipython-input-10-4e1243bd22c6>\u001b[0m in \u001b[0;36m<module>\u001b[1;34m\u001b[0m\n\u001b[1;32m----> 1\u001b[1;33m \u001b[0mtest\u001b[0m\u001b[1;33m\u001b[0m\u001b[1;33m\u001b[0m\u001b[0m\n\u001b[0m",
      "\u001b[1;31mNameError\u001b[0m: name 'test' is not defined"
     ]
    }
   ],
   "source": [
    "test"
   ]
  },
  {
   "cell_type": "code",
   "execution_count": null,
   "metadata": {},
   "outputs": [],
   "source": []
  }
 ],
 "metadata": {
  "kernelspec": {
   "display_name": "Python 3",
   "language": "python",
   "name": "python3"
  },
  "language_info": {
   "codemirror_mode": {
    "name": "ipython",
    "version": 3
   },
   "file_extension": ".py",
   "mimetype": "text/x-python",
   "name": "python",
   "nbconvert_exporter": "python",
   "pygments_lexer": "ipython3",
   "version": "3.7.6"
  }
 },
 "nbformat": 4,
 "nbformat_minor": 2
}
